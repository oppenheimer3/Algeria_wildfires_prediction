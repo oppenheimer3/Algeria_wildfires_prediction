{
  "cells": [
    {
      "cell_type": "code",
      "execution_count": 1,
      "metadata": {
        "id": "LaJv30Kegt1h"
      },
      "outputs": [],
      "source": [
        "import pandas as pd\n",
        "import torch\n",
        "import torch.nn as nn\n",
        "import torch.optim as optim\n",
        "from torch.utils.data import DataLoader, TensorDataset\n",
        "import torch.nn.functional as F\n",
        "import numpy as np\n",
        "from sklearn.preprocessing import StandardScaler\n",
        "from sklearn.metrics import recall_score, f1_score\n",
        "from sklearn.model_selection import train_test_split\n",
        "import matplotlib.pyplot as plt\n",
        "\n",
        "device = 'cuda' if torch.cuda.is_available() else 'cpu'\n",
        "device = torch.device(device)\n",
        "\n",
        "\n",
        "df = pd.read_csv(\"https://github.com/oppenheimer3/Algeria_wildfires_prediction/raw/master/datasets/total_dataset.csv\").drop(columns=['Unnamed: 0'])\n",
        "\n",
        "scaler = StandardScaler()\n",
        "df_numeric = df.drop(columns=['date', 'Province', 'Town', 'fire', 'longitude', 'latitude'])\n",
        "df_normalized = pd.DataFrame(scaler.fit_transform(df_numeric), columns=df_numeric.columns)\n",
        "df_normalized[['date', 'Province', 'Town', 'fire', 'longitude', 'latitude']] = df[['date', 'Province', 'Town', 'fire', 'longitude', 'latitude']]\n",
        "df = df_normalized\n",
        "\n",
        "df['year'] = pd.to_datetime(df['date']).dt.year\n",
        "df_train = df[(df['Province']!='Bejaia') & (df['Town']!='El Kseur')].drop(columns=['year', 'Province', 'Town', 'date', 'longitude', 'latitude'])\n",
        "df_test = df[(df['Province']=='Bejaia') & (df['Town']=='El Kseur')].drop(columns=['year', 'Province', 'Town', 'date', 'longitude', 'latitude'])\n",
        "\n",
        "x_train = df_train.drop(columns = ['fire', 'MaxFRP'])\n",
        "y_train = df_train['fire']\n",
        "x_test = df_test.drop(columns = ['fire', 'MaxFRP'])\n",
        "y_test = df_test['fire']"
      ]
    },
    {
      "cell_type": "code",
      "execution_count": 2,
      "metadata": {
        "id": "Z1NJGEHpZVGj"
      },
      "outputs": [],
      "source": [
        "x_train = torch.tensor(x_train.values, dtype= torch.float32)\n",
        "y_train = torch.tensor(y_train.values, dtype=torch.float32)\n",
        "x_test = torch.tensor(x_test.values, dtype= torch.float32)\n",
        "y_test = torch.tensor(y_test.values, dtype=torch.float32)\n",
        "\n",
        "x_train, x_val, y_train, y_val = train_test_split(x_train, y_train, test_size=0.2, random_state=42)\n",
        "\n"
      ]
    },
    {
      "cell_type": "code",
      "execution_count": 3,
      "metadata": {
        "id": "DoQstvIyqRY7"
      },
      "outputs": [],
      "source": [
        "train_dataset = TensorDataset(x_train, y_train)\n",
        "train_loader = DataLoader(train_dataset, batch_size=128, shuffle=True)"
      ]
    },
    {
      "cell_type": "code",
      "execution_count": 4,
      "metadata": {
        "id": "hRxf_82egwbc"
      },
      "outputs": [],
      "source": [
        "\n",
        "\n",
        "class Classifier(nn.Module):\n",
        "  def __init__(self, hidden_layers):\n",
        "    super().__init__()\n",
        "    self.fc1 = nn.Linear(76, hidden_layers)\n",
        "    self.fc2 = nn.Linear(hidden_layers,1)\n",
        "    self.relu = nn.ReLU()\n",
        "    self.sig = nn.Sigmoid()\n",
        "\n",
        "  def forward(self, x):\n",
        "    x = self.relu(self.fc1(x))\n",
        "    o = self.sig(self.fc2(x))\n",
        "    return o\n",
        "  def train(self, optimizer, criterion, epochs, train_loader, x_val, y_val):\n",
        "    t_lst = []\n",
        "    v_lst = []\n",
        "    for e in range(epochs):\n",
        "      for inputs, labels in train_loader:\n",
        "        inputs, labels = inputs.to(device), labels.to(device)\n",
        "        predictions = self(inputs)\n",
        "        loss = criterion(predictions, labels.view(-1,1))\n",
        "        optimizer.zero_grad()\n",
        "        loss.backward()\n",
        "        optimizer.step()\n",
        "        val_loss = criterion(self(x_val.to(device)), y_val.view(-1,1).to(device))\n",
        "        test_loss = criterion(self(x_test.to(device)), y_test.view(-1,1).to(device))\n",
        "      t_lst.append(loss.item())\n",
        "      v_lst.append(val_loss.item())\n",
        "      print(e,loss.item(), val_loss.item())\n",
        "      if val_loss<0.18:\n",
        "        break\n",
        "\n",
        "lr = 0.001\n",
        "epochs = 100\n",
        "\n",
        "model = Classifier(550).to(device)\n",
        "criterion = nn.BCELoss()\n",
        "optimizer = optim.Adam(model.parameters(), lr=lr)\n"
      ]
    },
    {
      "cell_type": "code",
      "execution_count": 5,
      "metadata": {
        "colab": {
          "base_uri": "https://localhost:8080/"
        },
        "id": "df0EiJUx4vx_",
        "outputId": "9270eaf8-150a-4375-d543-5e1f27ced6a5"
      },
      "outputs": [
        {
          "name": "stdout",
          "output_type": "stream",
          "text": [
            "0 0.24441388249397278 0.3051410913467407\n",
            "1 0.19055618345737457 0.254477858543396\n",
            "2 0.1958860605955124 0.2324950098991394\n",
            "3 0.13792069256305695 0.22306133806705475\n",
            "4 0.09440300613641739 0.21480432152748108\n",
            "5 0.2699992060661316 0.20645520091056824\n",
            "6 0.2425108551979065 0.20323893427848816\n",
            "7 0.1750408411026001 0.19751636683940887\n",
            "8 0.23619508743286133 0.204312264919281\n",
            "9 0.16958507895469666 0.19797886908054352\n",
            "10 0.1158975288271904 0.1944839507341385\n",
            "11 0.17725668847560883 0.19592726230621338\n",
            "12 0.2042769342660904 0.18774078786373138\n",
            "13 0.1015864908695221 0.1909448206424713\n",
            "14 0.03888075053691864 0.19301515817642212\n",
            "15 0.22126857936382294 0.18911811709403992\n",
            "16 0.09481407701969147 0.18828184902668\n",
            "17 0.1554538458585739 0.18493282794952393\n",
            "18 0.2695687711238861 0.1844642609357834\n",
            "19 0.11581581830978394 0.1858254075050354\n",
            "20 0.13025833666324615 0.18124671280384064\n",
            "21 0.1093854233622551 0.19189579784870148\n",
            "22 0.19187115132808685 0.18749195337295532\n",
            "23 0.06746426224708557 0.1860731840133667\n",
            "24 0.12134423106908798 0.18384338915348053\n",
            "25 0.11647383868694305 0.18522092700004578\n",
            "26 0.09748158603906631 0.1830674111843109\n",
            "27 0.13487257063388824 0.19776423275470734\n",
            "28 0.18077535927295685 0.17832355201244354\n"
          ]
        }
      ],
      "source": [
        "model.train(optimizer, criterion, epochs, train_loader, x_val, y_val)"
      ]
    },
    {
      "cell_type": "code",
      "execution_count": 6,
      "metadata": {
        "colab": {
          "base_uri": "https://localhost:8080/"
        },
        "id": "H19d0bb97a2y",
        "outputId": "04475592-96c4-4bd0-f332-857ad41ef7c6"
      },
      "outputs": [
        {
          "data": {
            "text/plain": [
              "tensor(0.3040, device='cuda:0', grad_fn=<BinaryCrossEntropyBackward0>)"
            ]
          },
          "execution_count": 6,
          "metadata": {},
          "output_type": "execute_result"
        }
      ],
      "source": [
        "criterion(model(x_test.to(device)), y_test.view(-1,1).to(device))"
      ]
    },
    {
      "cell_type": "code",
      "execution_count": 8,
      "metadata": {
        "colab": {
          "base_uri": "https://localhost:8080/"
        },
        "id": "rXocs9f1ZgTI",
        "outputId": "736f466e-e8d9-4816-e83e-a756d17b2a73"
      },
      "outputs": [
        {
          "name": "stderr",
          "output_type": "stream",
          "text": [
            "<ipython-input-8-d24d124e3c48>:2: SettingWithCopyWarning: \n",
            "A value is trying to be set on a copy of a slice from a DataFrame.\n",
            "Try using .loc[row_indexer,col_indexer] = value instead\n",
            "\n",
            "See the caveats in the documentation: https://pandas.pydata.org/pandas-docs/stable/user_guide/indexing.html#returning-a-view-versus-a-copy\n",
            "  df_test['prediction'] = model(x_test.to(device)).detach().cpu()\n"
          ]
        }
      ],
      "source": [
        "df_test = df[(df['Province']=='Bejaia') & (df['Town']=='El Kseur')]\n",
        "df_test['prediction'] = model(x_test.to(device)).detach().cpu()\n",
        "dates = ['2023-07-22', '2023-07-23', '2023-07-24', '2023-07-25']\n",
        "df = df_test[['longitude', 'latitude', 'fire', 'prediction']]"
      ]
    },
    {
      "cell_type": "code",
      "execution_count": 10,
      "metadata": {
        "colab": {
          "base_uri": "https://localhost:8080/",
          "height": 780,
          "referenced_widgets": [
            "17d85473157042b694ef514e594aaf14",
            "b2aab58275e848e19ade4e619deb5eb2",
            "81c20e66f356479baba5950c4701c775",
            "c118928bceed4bb097dcd299a381111a",
            "9d026ae1484344cea821a2ebee82d4d2",
            "fef11cc6f9324e4e8f70700332ad9042",
            "099b72e831d44789b66adae6233d7d0a",
            "08556596d5254a5c9ebb5e2cb187a384",
            "53c6a539c16d459c95f1c60f2403bdfd",
            "2d7e4837318c4194ababb34c001ba07f",
            "20ed744f79a84856b8151b114def1123",
            "75e3362c2e574ff896e7ed5b36d49b04",
            "86c0817cd5764c3686250eac5848c81c",
            "a1c7ccc87b414b68b56cdc19678797b9",
            "cc27b4eb759a432ebaa5bb48f46ff4f5",
            "e303e9ab02f1412a9fc02cfc5fcf3b4e",
            "423ccae1d4f94aa3ab0000fc0dc87577",
            "1ff7d906e2b543a9abc944770b57f24d",
            "f75a6f5b9c984d84904a04b18d447e5d",
            "9acb00748f664b589486e48277dfa6e6",
            "6a861c90d82d4c7293036196da3c29c7",
            "344fbc6c6a474288853e5880c472a907",
            "92b344949435466a99d3b91796fecb07",
            "423fadef0e094e53a07dbb010802b383",
            "75d9acf3f0bd4c4f961b76ae1d7b38e3",
            "f327b1f76102491aa8a6b266d4b957a3",
            "2d74b9c45cb94f50ab38a246c929c54e"
          ]
        },
        "id": "k9g9Lx-TTzNU",
        "outputId": "82f147f3-17ef-434d-a3d4-0600b644d203"
      },
      "outputs": [
        {
          "name": "stdout",
          "output_type": "stream",
          "text": [
            "To authorize access needed by Earth Engine, open the following URL in a web browser and follow the instructions. If the web browser does not start automatically, please manually browse the URL below.\n",
            "\n",
            "    https://code.earthengine.google.com/client-auth?scopes=https%3A//www.googleapis.com/auth/earthengine%20https%3A//www.googleapis.com/auth/devstorage.full_control&request_id=ksCY6mUy3_dmdzpprNKgPekHnXDbk_ff4ier1z2ztgw&tc=CS1KwRhun4FEihxhSQHzkBL532Gd9Ejg-1O84_lXkeQ&cc=4UpWXdubTYo50whQZSnzVhXBSP_ZVQqmHFSX6gakNWM\n",
            "\n",
            "The authorization workflow will generate a code, which you should paste in the box below.\n",
            "Enter verification code: 4/1AfJohXl3kVcG8sfeXgzhV01scvCZnrqwqsXkUtuKFpBj9og3MLiWZ5APKmw\n",
            "\n",
            "Successfully saved authorization token.\n"
          ]
        },
        {
          "data": {
            "application/vnd.jupyter.widget-view+json": {
              "model_id": "17d85473157042b694ef514e594aaf14",
              "version_major": 2,
              "version_minor": 0
            },
            "text/plain": [
              "Map(center=[36.58, 4.2], controls=(WidgetControl(options=['position', 'transparent_bg'], widget=SearchDataGUI(…"
            ]
          },
          "metadata": {
            "application/vnd.jupyter.widget-view+json": {
              "colab": {
                "custom_widget_manager": {
                  "url": "https://ssl.gstatic.com/colaboratory-static/widgets/colab-cdn-widget-manager/b3e629b1971e1542/manager.min.js"
                }
              }
            }
          },
          "output_type": "display_data"
        }
      ],
      "source": [
        "import geemap\n",
        "import ee\n",
        "\n",
        "ee.Authenticate()\n",
        "ee.Initialize()\n",
        "\n",
        "fc_lst = [ee.Feature(ee.Geometry.Point(row['longitude'], row['latitude']), {'prediction':row['prediction'], 'fire':row['fire']}) for i, row in df.iterrows() ]\n",
        "fc = ee.FeatureCollection(fc_lst)\n",
        "p_image = fc.reduceToImage(properties=['prediction'], reducer=ee.Reducer.first())\n",
        "p_image = p_image.reproject('EPSG:3035', None, 1000)\n",
        "r_image = fc.reduceToImage(properties=['fire'], reducer=ee.Reducer.first())\n",
        "r_image = r_image.reproject('EPSG:3035', None, 1000)\n",
        "\n",
        "Map = geemap.Map(center=[ 36.58,4.20], zoom=10)\n",
        "\n",
        "Map.addLayer(r_image, {'min': 0, 'max': 1, 'palette': ['green', 'yellow', 'red']}, 'real')\n",
        "Map.addLayer(p_image, {'min': 0, 'max': 1, 'palette': ['green', 'yellow', 'red']}, 'prediction')\n",
        "\n",
        "Map.addLayerControl()\n",
        "Map\n"
      ]
    }
  ],
  "metadata": {
    "accelerator": "GPU",
    "colab": {
      "provenance": []
    },
    "kernelspec": {
      "display_name": "Python 3",
      "name": "python3"
    },
    "language_info": {
      "name": "python"
    },
    "widgets": {
      "application/vnd.jupyter.widget-state+json": {
        "08556596d5254a5c9ebb5e2cb187a384": {
          "model_module": "jupyter-leaflet",
          "model_module_version": "^0.17",
          "model_name": "LeafletWidgetControlModel",
          "state": {
            "_model_module": "jupyter-leaflet",
            "_model_module_version": "^0.17",
            "_model_name": "LeafletWidgetControlModel",
            "_view_count": null,
            "_view_module": "jupyter-leaflet",
            "_view_module_version": "^0.17",
            "_view_name": "LeafletWidgetControlView",
            "max_height": null,
            "max_width": null,
            "min_height": null,
            "min_width": null,
            "options": [
              "position",
              "transparent_bg"
            ],
            "position": "topright",
            "transparent_bg": false,
            "widget": "IPY_MODEL_f75a6f5b9c984d84904a04b18d447e5d"
          }
        },
        "099b72e831d44789b66adae6233d7d0a": {
          "model_module": "jupyter-leaflet",
          "model_module_version": "^0.17",
          "model_name": "LeafletMeasureControlModel",
          "state": {
            "_custom_units": {},
            "_model_module": "jupyter-leaflet",
            "_model_module_version": "^0.17",
            "_model_name": "LeafletMeasureControlModel",
            "_view_count": null,
            "_view_module": "jupyter-leaflet",
            "_view_module_version": "^0.17",
            "_view_name": "LeafletMeasureControlView",
            "active_color": "orange",
            "capture_z_index": 10000,
            "completed_color": "#C8F2BE",
            "options": [
              "active_color",
              "capture_z_index",
              "completed_color",
              "popup_options",
              "position",
              "primary_area_unit",
              "primary_length_unit",
              "secondary_area_unit",
              "secondary_length_unit"
            ],
            "popup_options": {
              "autoPanPadding": [
                10,
                10
              ],
              "className": "leaflet-measure-resultpopup"
            },
            "position": "bottomleft",
            "primary_area_unit": "acres",
            "primary_length_unit": "kilometers",
            "secondary_area_unit": null,
            "secondary_length_unit": null
          }
        },
        "17d85473157042b694ef514e594aaf14": {
          "model_module": "jupyter-leaflet",
          "model_module_version": "^0.17",
          "model_name": "LeafletMapModel",
          "state": {
            "_dom_classes": [],
            "_model_module": "jupyter-leaflet",
            "_model_module_version": "^0.17",
            "_model_name": "LeafletMapModel",
            "_view_count": null,
            "_view_module": "jupyter-leaflet",
            "_view_module_version": "^0.17",
            "_view_name": "LeafletMapView",
            "bottom": 102716,
            "bounce_at_zoom_limits": true,
            "box_zoom": true,
            "center": [
              36.58,
              4.2
            ],
            "close_popup_on_click": true,
            "controls": [
              "IPY_MODEL_b2aab58275e848e19ade4e619deb5eb2",
              "IPY_MODEL_81c20e66f356479baba5950c4701c775",
              "IPY_MODEL_c118928bceed4bb097dcd299a381111a",
              "IPY_MODEL_9d026ae1484344cea821a2ebee82d4d2",
              "IPY_MODEL_fef11cc6f9324e4e8f70700332ad9042",
              "IPY_MODEL_099b72e831d44789b66adae6233d7d0a",
              "IPY_MODEL_08556596d5254a5c9ebb5e2cb187a384",
              "IPY_MODEL_53c6a539c16d459c95f1c60f2403bdfd",
              "IPY_MODEL_2d7e4837318c4194ababb34c001ba07f"
            ],
            "crs": {
              "custom": false,
              "name": "EPSG3857"
            },
            "default_style": "IPY_MODEL_20ed744f79a84856b8151b114def1123",
            "double_click_zoom": true,
            "dragging": true,
            "dragging_style": "IPY_MODEL_75e3362c2e574ff896e7ed5b36d49b04",
            "east": 5.39154052734375,
            "fullscreen": false,
            "inertia": true,
            "inertia_deceleration": 3000,
            "inertia_max_speed": 1500,
            "interpolation": "bilinear",
            "keyboard": true,
            "keyboard_pan_offset": 80,
            "keyboard_zoom_offset": 1,
            "layers": [
              "IPY_MODEL_86c0817cd5764c3686250eac5848c81c",
              "IPY_MODEL_a1c7ccc87b414b68b56cdc19678797b9",
              "IPY_MODEL_cc27b4eb759a432ebaa5bb48f46ff4f5"
            ],
            "layout": "IPY_MODEL_e303e9ab02f1412a9fc02cfc5fcf3b4e",
            "left": 133262,
            "max_zoom": 24,
            "min_zoom": null,
            "modisdate": "2023-10-27",
            "north": 36.910372213522535,
            "options": [
              "bounce_at_zoom_limits",
              "box_zoom",
              "center",
              "close_popup_on_click",
              "double_click_zoom",
              "dragging",
              "fullscreen",
              "inertia",
              "inertia_deceleration",
              "inertia_max_speed",
              "interpolation",
              "keyboard",
              "keyboard_pan_offset",
              "keyboard_zoom_offset",
              "max_zoom",
              "min_zoom",
              "prefer_canvas",
              "scroll_wheel_zoom",
              "tap",
              "tap_tolerance",
              "touch_zoom",
              "world_copy_jump",
              "zoom",
              "zoom_animation_threshold",
              "zoom_delta",
              "zoom_snap"
            ],
            "panes": {},
            "prefer_canvas": false,
            "right": 134998,
            "scroll_wheel_zoom": true,
            "south": 36.24870331653198,
            "style": "IPY_MODEL_423ccae1d4f94aa3ab0000fc0dc87577",
            "tap": true,
            "tap_tolerance": 15,
            "top": 102116,
            "touch_zoom": true,
            "west": 3.0075073242187504,
            "window_url": "https://aezs8k88joo-496ff2e9c6d22116-0-colab.googleusercontent.com/outputframe.html?vrz=colab_20231026-060131_RC00_576810514",
            "world_copy_jump": false,
            "zoom": 10,
            "zoom_animation_threshold": 4,
            "zoom_delta": 1,
            "zoom_snap": 1
          }
        },
        "1ff7d906e2b543a9abc944770b57f24d": {
          "model_module": "@jupyter-widgets/controls",
          "model_module_version": "1.5.0",
          "model_name": "HBoxModel",
          "state": {
            "_dom_classes": [
              "geemap-colab"
            ],
            "_model_module": "@jupyter-widgets/controls",
            "_model_module_version": "1.5.0",
            "_model_name": "HBoxModel",
            "_view_count": null,
            "_view_module": "@jupyter-widgets/controls",
            "_view_module_version": "1.5.0",
            "_view_name": "HBoxView",
            "box_style": "",
            "children": [
              "IPY_MODEL_9acb00748f664b589486e48277dfa6e6"
            ],
            "layout": "IPY_MODEL_6a861c90d82d4c7293036196da3c29c7"
          }
        },
        "20ed744f79a84856b8151b114def1123": {
          "model_module": "jupyter-leaflet",
          "model_module_version": "^0.17",
          "model_name": "LeafletMapStyleModel",
          "state": {
            "_model_module": "jupyter-leaflet",
            "_model_module_version": "^0.17",
            "_model_name": "LeafletMapStyleModel",
            "_view_count": null,
            "_view_module": "@jupyter-widgets/base",
            "_view_module_version": "1.2.0",
            "_view_name": "StyleView",
            "cursor": "grab"
          }
        },
        "2d74b9c45cb94f50ab38a246c929c54e": {
          "model_module": "@jupyter-widgets/controls",
          "model_module_version": "1.5.0",
          "model_name": "DescriptionStyleModel",
          "state": {
            "_model_module": "@jupyter-widgets/controls",
            "_model_module_version": "1.5.0",
            "_model_name": "DescriptionStyleModel",
            "_view_count": null,
            "_view_module": "@jupyter-widgets/base",
            "_view_module_version": "1.2.0",
            "_view_name": "StyleView",
            "description_width": ""
          }
        },
        "2d7e4837318c4194ababb34c001ba07f": {
          "model_module": "jupyter-leaflet",
          "model_module_version": "^0.17",
          "model_name": "LeafletLayersControlModel",
          "state": {
            "_model_module": "jupyter-leaflet",
            "_model_module_version": "^0.17",
            "_model_name": "LeafletLayersControlModel",
            "_view_count": null,
            "_view_module": "jupyter-leaflet",
            "_view_module_version": "^0.17",
            "_view_name": "LeafletLayersControlView",
            "options": [
              "position"
            ],
            "position": "topright"
          }
        },
        "344fbc6c6a474288853e5880c472a907": {
          "model_module": "@jupyter-widgets/controls",
          "model_module_version": "1.5.0",
          "model_name": "ToggleButtonModel",
          "state": {
            "_dom_classes": [],
            "_model_module": "@jupyter-widgets/controls",
            "_model_module_version": "1.5.0",
            "_model_name": "ToggleButtonModel",
            "_view_count": null,
            "_view_module": "@jupyter-widgets/controls",
            "_view_module_version": "1.5.0",
            "_view_name": "ToggleButtonView",
            "button_style": "",
            "description": "",
            "description_tooltip": null,
            "disabled": false,
            "icon": "wrench",
            "layout": "IPY_MODEL_f327b1f76102491aa8a6b266d4b957a3",
            "style": "IPY_MODEL_2d74b9c45cb94f50ab38a246c929c54e",
            "tooltip": "Toolbar",
            "value": false
          }
        },
        "423ccae1d4f94aa3ab0000fc0dc87577": {
          "model_module": "jupyter-leaflet",
          "model_module_version": "^0.17",
          "model_name": "LeafletMapStyleModel",
          "state": {
            "_model_module": "jupyter-leaflet",
            "_model_module_version": "^0.17",
            "_model_name": "LeafletMapStyleModel",
            "_view_count": null,
            "_view_module": "@jupyter-widgets/base",
            "_view_module_version": "1.2.0",
            "_view_name": "StyleView",
            "cursor": "grab"
          }
        },
        "423fadef0e094e53a07dbb010802b383": {
          "model_module": "@jupyter-widgets/base",
          "model_module_version": "1.2.0",
          "model_name": "LayoutModel",
          "state": {
            "_model_module": "@jupyter-widgets/base",
            "_model_module_version": "1.2.0",
            "_model_name": "LayoutModel",
            "_view_count": null,
            "_view_module": "@jupyter-widgets/base",
            "_view_module_version": "1.2.0",
            "_view_name": "LayoutView",
            "align_content": null,
            "align_items": null,
            "align_self": null,
            "border": null,
            "bottom": null,
            "display": null,
            "flex": null,
            "flex_flow": null,
            "grid_area": null,
            "grid_auto_columns": null,
            "grid_auto_flow": null,
            "grid_auto_rows": null,
            "grid_column": null,
            "grid_gap": null,
            "grid_row": null,
            "grid_template_areas": null,
            "grid_template_columns": null,
            "grid_template_rows": null,
            "height": "28px",
            "justify_content": null,
            "justify_items": null,
            "left": null,
            "margin": null,
            "max_height": null,
            "max_width": null,
            "min_height": null,
            "min_width": null,
            "object_fit": null,
            "object_position": null,
            "order": null,
            "overflow": null,
            "overflow_x": null,
            "overflow_y": null,
            "padding": "0px 0px 0px 4px",
            "right": null,
            "top": null,
            "visibility": null,
            "width": "28px"
          }
        },
        "53c6a539c16d459c95f1c60f2403bdfd": {
          "model_module": "jupyter-leaflet",
          "model_module_version": "^0.17",
          "model_name": "LeafletAttributionControlModel",
          "state": {
            "_model_module": "jupyter-leaflet",
            "_model_module_version": "^0.17",
            "_model_name": "LeafletAttributionControlModel",
            "_view_count": null,
            "_view_module": "jupyter-leaflet",
            "_view_module_version": "^0.17",
            "_view_name": "LeafletAttributionControlView",
            "options": [
              "position",
              "prefix"
            ],
            "position": "bottomright",
            "prefix": "ipyleaflet"
          }
        },
        "6a861c90d82d4c7293036196da3c29c7": {
          "model_module": "@jupyter-widgets/base",
          "model_module_version": "1.2.0",
          "model_name": "LayoutModel",
          "state": {
            "_model_module": "@jupyter-widgets/base",
            "_model_module_version": "1.2.0",
            "_model_name": "LayoutModel",
            "_view_count": null,
            "_view_module": "@jupyter-widgets/base",
            "_view_module_version": "1.2.0",
            "_view_name": "LayoutView",
            "align_content": null,
            "align_items": null,
            "align_self": null,
            "border": null,
            "bottom": null,
            "display": null,
            "flex": null,
            "flex_flow": null,
            "grid_area": null,
            "grid_auto_columns": null,
            "grid_auto_flow": null,
            "grid_auto_rows": null,
            "grid_column": null,
            "grid_gap": null,
            "grid_row": null,
            "grid_template_areas": null,
            "grid_template_columns": null,
            "grid_template_rows": null,
            "height": null,
            "justify_content": null,
            "justify_items": null,
            "left": null,
            "margin": null,
            "max_height": null,
            "max_width": null,
            "min_height": null,
            "min_width": null,
            "object_fit": null,
            "object_position": null,
            "order": null,
            "overflow": null,
            "overflow_x": null,
            "overflow_y": null,
            "padding": null,
            "right": null,
            "top": null,
            "visibility": null,
            "width": null
          }
        },
        "75d9acf3f0bd4c4f961b76ae1d7b38e3": {
          "model_module": "@jupyter-widgets/controls",
          "model_module_version": "1.5.0",
          "model_name": "DescriptionStyleModel",
          "state": {
            "_model_module": "@jupyter-widgets/controls",
            "_model_module_version": "1.5.0",
            "_model_name": "DescriptionStyleModel",
            "_view_count": null,
            "_view_module": "@jupyter-widgets/base",
            "_view_module_version": "1.2.0",
            "_view_name": "StyleView",
            "description_width": ""
          }
        },
        "75e3362c2e574ff896e7ed5b36d49b04": {
          "model_module": "jupyter-leaflet",
          "model_module_version": "^0.17",
          "model_name": "LeafletMapStyleModel",
          "state": {
            "_model_module": "jupyter-leaflet",
            "_model_module_version": "^0.17",
            "_model_name": "LeafletMapStyleModel",
            "_view_count": null,
            "_view_module": "@jupyter-widgets/base",
            "_view_module_version": "1.2.0",
            "_view_name": "StyleView",
            "cursor": "move"
          }
        },
        "81c20e66f356479baba5950c4701c775": {
          "model_module": "jupyter-leaflet",
          "model_module_version": "^0.17",
          "model_name": "LeafletZoomControlModel",
          "state": {
            "_model_module": "jupyter-leaflet",
            "_model_module_version": "^0.17",
            "_model_name": "LeafletZoomControlModel",
            "_view_count": null,
            "_view_module": "jupyter-leaflet",
            "_view_module_version": "^0.17",
            "_view_name": "LeafletZoomControlView",
            "options": [
              "position",
              "zoom_in_text",
              "zoom_in_title",
              "zoom_out_text",
              "zoom_out_title"
            ],
            "position": "topleft",
            "zoom_in_text": "+",
            "zoom_in_title": "Zoom in",
            "zoom_out_text": "-",
            "zoom_out_title": "Zoom out"
          }
        },
        "86c0817cd5764c3686250eac5848c81c": {
          "model_module": "jupyter-leaflet",
          "model_module_version": "^0.17",
          "model_name": "LeafletTileLayerModel",
          "state": {
            "_model_module": "jupyter-leaflet",
            "_model_module_version": "^0.17",
            "_model_name": "LeafletTileLayerModel",
            "_view_count": null,
            "_view_module": "jupyter-leaflet",
            "_view_module_version": "^0.17",
            "_view_name": "LeafletTileLayerView",
            "attribution": "&copy; <a href=\"https://www.openstreetmap.org/copyright\">OpenStreetMap</a> contributors",
            "base": true,
            "bottom": true,
            "bounds": null,
            "detect_retina": false,
            "loading": false,
            "max_native_zoom": null,
            "max_zoom": 19,
            "min_native_zoom": null,
            "min_zoom": 1,
            "name": "OpenStreetMap.Mapnik",
            "no_wrap": false,
            "opacity": 1,
            "options": [
              "attribution",
              "bounds",
              "detect_retina",
              "max_native_zoom",
              "max_zoom",
              "min_native_zoom",
              "min_zoom",
              "no_wrap",
              "tile_size",
              "tms",
              "zoom_offset"
            ],
            "pane": "",
            "popup": null,
            "popup_max_height": null,
            "popup_max_width": 300,
            "popup_min_width": 50,
            "show_loading": false,
            "subitems": [],
            "tile_size": 256,
            "tms": false,
            "url": "https://tile.openstreetmap.org/{z}/{x}/{y}.png",
            "visible": true,
            "zoom_offset": 0
          }
        },
        "92b344949435466a99d3b91796fecb07": {
          "model_module": "@jupyter-widgets/base",
          "model_module_version": "1.2.0",
          "model_name": "LayoutModel",
          "state": {
            "_model_module": "@jupyter-widgets/base",
            "_model_module_version": "1.2.0",
            "_model_name": "LayoutModel",
            "_view_count": null,
            "_view_module": "@jupyter-widgets/base",
            "_view_module_version": "1.2.0",
            "_view_name": "LayoutView",
            "align_content": null,
            "align_items": null,
            "align_self": null,
            "border": null,
            "bottom": null,
            "display": null,
            "flex": null,
            "flex_flow": null,
            "grid_area": null,
            "grid_auto_columns": null,
            "grid_auto_flow": null,
            "grid_auto_rows": null,
            "grid_column": null,
            "grid_gap": null,
            "grid_row": null,
            "grid_template_areas": null,
            "grid_template_columns": null,
            "grid_template_rows": null,
            "height": null,
            "justify_content": null,
            "justify_items": null,
            "left": null,
            "margin": null,
            "max_height": null,
            "max_width": null,
            "min_height": null,
            "min_width": null,
            "object_fit": null,
            "object_position": null,
            "order": null,
            "overflow": null,
            "overflow_x": null,
            "overflow_y": null,
            "padding": null,
            "right": null,
            "top": null,
            "visibility": null,
            "width": null
          }
        },
        "9acb00748f664b589486e48277dfa6e6": {
          "model_module": "@jupyter-widgets/controls",
          "model_module_version": "1.5.0",
          "model_name": "ToggleButtonModel",
          "state": {
            "_dom_classes": [],
            "_model_module": "@jupyter-widgets/controls",
            "_model_module_version": "1.5.0",
            "_model_name": "ToggleButtonModel",
            "_view_count": null,
            "_view_module": "@jupyter-widgets/controls",
            "_view_module_version": "1.5.0",
            "_view_name": "ToggleButtonView",
            "button_style": "",
            "description": "",
            "description_tooltip": null,
            "disabled": false,
            "icon": "globe",
            "layout": "IPY_MODEL_423fadef0e094e53a07dbb010802b383",
            "style": "IPY_MODEL_75d9acf3f0bd4c4f961b76ae1d7b38e3",
            "tooltip": "Search location/data",
            "value": false
          }
        },
        "9d026ae1484344cea821a2ebee82d4d2": {
          "model_module": "jupyter-leaflet",
          "model_module_version": "^0.17",
          "model_name": "LeafletDrawControlModel",
          "state": {
            "_model_module": "jupyter-leaflet",
            "_model_module_version": "^0.17",
            "_model_name": "LeafletDrawControlModel",
            "_view_count": null,
            "_view_module": "jupyter-leaflet",
            "_view_module_version": "^0.17",
            "_view_name": "LeafletDrawControlView",
            "circle": {},
            "circlemarker": {},
            "data": [],
            "edit": true,
            "marker": {
              "shapeOptions": {
                "color": "#3388ff"
              }
            },
            "options": [
              "position"
            ],
            "polygon": {
              "shapeOptions": {}
            },
            "polyline": {
              "shapeOptions": {}
            },
            "position": "topleft",
            "rectangle": {
              "shapeOptions": {
                "color": "#3388ff"
              }
            },
            "remove": true
          }
        },
        "a1c7ccc87b414b68b56cdc19678797b9": {
          "model_module": "jupyter-leaflet",
          "model_module_version": "^0.17",
          "model_name": "LeafletTileLayerModel",
          "state": {
            "_model_module": "jupyter-leaflet",
            "_model_module_version": "^0.17",
            "_model_name": "LeafletTileLayerModel",
            "_view_count": null,
            "_view_module": "jupyter-leaflet",
            "_view_module_version": "^0.17",
            "_view_name": "LeafletTileLayerView",
            "attribution": "Google Earth Engine",
            "base": false,
            "bottom": true,
            "bounds": null,
            "detect_retina": false,
            "loading": false,
            "max_native_zoom": null,
            "max_zoom": 24,
            "min_native_zoom": null,
            "min_zoom": 0,
            "name": "real",
            "no_wrap": false,
            "opacity": 1,
            "options": [
              "attribution",
              "bounds",
              "detect_retina",
              "max_native_zoom",
              "max_zoom",
              "min_native_zoom",
              "min_zoom",
              "no_wrap",
              "tile_size",
              "tms",
              "zoom_offset"
            ],
            "pane": "",
            "popup": null,
            "popup_max_height": null,
            "popup_max_width": 300,
            "popup_min_width": 50,
            "show_loading": false,
            "subitems": [],
            "tile_size": 256,
            "tms": false,
            "url": "https://earthengine.googleapis.com/v1/projects/earthengine-legacy/maps/fa62ea215db365fcbc47806be99cd1f8-c80851b717a3d37e4b1d6a5256465f79/tiles/{z}/{x}/{y}",
            "visible": true,
            "zoom_offset": 0
          }
        },
        "b2aab58275e848e19ade4e619deb5eb2": {
          "model_module": "jupyter-leaflet",
          "model_module_version": "^0.17",
          "model_name": "LeafletWidgetControlModel",
          "state": {
            "_model_module": "jupyter-leaflet",
            "_model_module_version": "^0.17",
            "_model_name": "LeafletWidgetControlModel",
            "_view_count": null,
            "_view_module": "jupyter-leaflet",
            "_view_module_version": "^0.17",
            "_view_name": "LeafletWidgetControlView",
            "max_height": null,
            "max_width": null,
            "min_height": null,
            "min_width": null,
            "options": [
              "position",
              "transparent_bg"
            ],
            "position": "topleft",
            "transparent_bg": false,
            "widget": "IPY_MODEL_1ff7d906e2b543a9abc944770b57f24d"
          }
        },
        "c118928bceed4bb097dcd299a381111a": {
          "model_module": "jupyter-leaflet",
          "model_module_version": "^0.17",
          "model_name": "LeafletFullScreenControlModel",
          "state": {
            "_model_module": "jupyter-leaflet",
            "_model_module_version": "^0.17",
            "_model_name": "LeafletFullScreenControlModel",
            "_view_count": null,
            "_view_module": "jupyter-leaflet",
            "_view_module_version": "^0.17",
            "_view_name": "LeafletFullScreenControlView",
            "options": [
              "position"
            ],
            "position": "topleft"
          }
        },
        "cc27b4eb759a432ebaa5bb48f46ff4f5": {
          "model_module": "jupyter-leaflet",
          "model_module_version": "^0.17",
          "model_name": "LeafletTileLayerModel",
          "state": {
            "_model_module": "jupyter-leaflet",
            "_model_module_version": "^0.17",
            "_model_name": "LeafletTileLayerModel",
            "_view_count": null,
            "_view_module": "jupyter-leaflet",
            "_view_module_version": "^0.17",
            "_view_name": "LeafletTileLayerView",
            "attribution": "Google Earth Engine",
            "base": false,
            "bottom": true,
            "bounds": null,
            "detect_retina": false,
            "loading": false,
            "max_native_zoom": null,
            "max_zoom": 24,
            "min_native_zoom": null,
            "min_zoom": 0,
            "name": "prediction",
            "no_wrap": false,
            "opacity": 1,
            "options": [
              "attribution",
              "bounds",
              "detect_retina",
              "max_native_zoom",
              "max_zoom",
              "min_native_zoom",
              "min_zoom",
              "no_wrap",
              "tile_size",
              "tms",
              "zoom_offset"
            ],
            "pane": "",
            "popup": null,
            "popup_max_height": null,
            "popup_max_width": 300,
            "popup_min_width": 50,
            "show_loading": false,
            "subitems": [],
            "tile_size": 256,
            "tms": false,
            "url": "https://earthengine.googleapis.com/v1/projects/earthengine-legacy/maps/2eeb32849fc125944807e10c258bdc32-d17a80710447f57472b083c0fc769310/tiles/{z}/{x}/{y}",
            "visible": true,
            "zoom_offset": 0
          }
        },
        "e303e9ab02f1412a9fc02cfc5fcf3b4e": {
          "model_module": "@jupyter-widgets/base",
          "model_module_version": "1.2.0",
          "model_name": "LayoutModel",
          "state": {
            "_model_module": "@jupyter-widgets/base",
            "_model_module_version": "1.2.0",
            "_model_name": "LayoutModel",
            "_view_count": null,
            "_view_module": "@jupyter-widgets/base",
            "_view_module_version": "1.2.0",
            "_view_name": "LayoutView",
            "align_content": null,
            "align_items": null,
            "align_self": null,
            "border": null,
            "bottom": null,
            "display": null,
            "flex": null,
            "flex_flow": null,
            "grid_area": null,
            "grid_auto_columns": null,
            "grid_auto_flow": null,
            "grid_auto_rows": null,
            "grid_column": null,
            "grid_gap": null,
            "grid_row": null,
            "grid_template_areas": null,
            "grid_template_columns": null,
            "grid_template_rows": null,
            "height": "600px",
            "justify_content": null,
            "justify_items": null,
            "left": null,
            "margin": null,
            "max_height": null,
            "max_width": null,
            "min_height": null,
            "min_width": null,
            "object_fit": null,
            "object_position": null,
            "order": null,
            "overflow": null,
            "overflow_x": null,
            "overflow_y": null,
            "padding": null,
            "right": null,
            "top": null,
            "visibility": null,
            "width": null
          }
        },
        "f327b1f76102491aa8a6b266d4b957a3": {
          "model_module": "@jupyter-widgets/base",
          "model_module_version": "1.2.0",
          "model_name": "LayoutModel",
          "state": {
            "_model_module": "@jupyter-widgets/base",
            "_model_module_version": "1.2.0",
            "_model_name": "LayoutModel",
            "_view_count": null,
            "_view_module": "@jupyter-widgets/base",
            "_view_module_version": "1.2.0",
            "_view_name": "LayoutView",
            "align_content": null,
            "align_items": null,
            "align_self": null,
            "border": null,
            "bottom": null,
            "display": null,
            "flex": null,
            "flex_flow": null,
            "grid_area": null,
            "grid_auto_columns": null,
            "grid_auto_flow": null,
            "grid_auto_rows": null,
            "grid_column": null,
            "grid_gap": null,
            "grid_row": null,
            "grid_template_areas": null,
            "grid_template_columns": null,
            "grid_template_rows": null,
            "height": "28px",
            "justify_content": null,
            "justify_items": null,
            "left": null,
            "margin": null,
            "max_height": null,
            "max_width": null,
            "min_height": null,
            "min_width": null,
            "object_fit": null,
            "object_position": null,
            "order": null,
            "overflow": null,
            "overflow_x": null,
            "overflow_y": null,
            "padding": "0px 0px 0px 4px",
            "right": null,
            "top": null,
            "visibility": null,
            "width": "28px"
          }
        },
        "f75a6f5b9c984d84904a04b18d447e5d": {
          "model_module": "@jupyter-widgets/controls",
          "model_module_version": "1.5.0",
          "model_name": "VBoxModel",
          "state": {
            "_dom_classes": [
              "geemap-colab"
            ],
            "_model_module": "@jupyter-widgets/controls",
            "_model_module_version": "1.5.0",
            "_model_name": "VBoxModel",
            "_view_count": null,
            "_view_module": "@jupyter-widgets/controls",
            "_view_module_version": "1.5.0",
            "_view_name": "VBoxView",
            "box_style": "",
            "children": [
              "IPY_MODEL_344fbc6c6a474288853e5880c472a907"
            ],
            "layout": "IPY_MODEL_92b344949435466a99d3b91796fecb07"
          }
        },
        "fef11cc6f9324e4e8f70700332ad9042": {
          "model_module": "jupyter-leaflet",
          "model_module_version": "^0.17",
          "model_name": "LeafletScaleControlModel",
          "state": {
            "_model_module": "jupyter-leaflet",
            "_model_module_version": "^0.17",
            "_model_name": "LeafletScaleControlModel",
            "_view_count": null,
            "_view_module": "jupyter-leaflet",
            "_view_module_version": "^0.17",
            "_view_name": "LeafletScaleControlView",
            "imperial": true,
            "max_width": 100,
            "metric": true,
            "options": [
              "imperial",
              "max_width",
              "metric",
              "position",
              "update_when_idle"
            ],
            "position": "bottomleft",
            "update_when_idle": false
          }
        }
      }
    }
  },
  "nbformat": 4,
  "nbformat_minor": 0
}
