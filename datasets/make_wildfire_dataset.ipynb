{
  "cells": [
    {
      "cell_type": "markdown",
      "metadata": {
        "id": "cY0yv_CHuFZt"
      },
      "source": [
        "# Make your own wildfires dataset:\n",
        "\n",
        "You need to have [google earth engine ](https://earthengine.google.com/) account\n"
      ]
    },
    {
      "cell_type": "code",
      "execution_count": null,
      "metadata": {
        "id": "018OhDlHvDzO"
      },
      "outputs": [],
      "source": [
        "!pip install earthengine-api"
      ]
    },
    {
      "cell_type": "code",
      "execution_count": null,
      "metadata": {
        "id": "7jQJls8g6YJx"
      },
      "outputs": [],
      "source": [
        "import ee\n",
        "import datetime\n",
        "import pandas as pd\n",
        "import numpy as np\n",
        "\n",
        "ee.Authenticate()\n",
        "ee.Initialize()"
      ]
    },
    {
      "cell_type": "markdown",
      "metadata": {},
      "source": [
        "this function create a dataset based on the [MOD14A1.061: Terra Thermal Anomalies & Fire Daily Global 1km](https://developers.google.com/earth-engine/datasets/catalog/MODIS_061_MOD14A1) product"
      ]
    },
    {
      "cell_type": "code",
      "execution_count": 150,
      "metadata": {
        "id": "RmGNzaa-k6Hd"
      },
      "outputs": [],
      "source": [
        "def wildfire_dataset(province, town, coordinates,\tstart_date, end_date):\n",
        "  N = 10 ### number of rows if there is data (N x 5000)\n",
        "  aoi = ee.Geometry.Polygon(list(coordinates))\n",
        "  modis_collection = ee.ImageCollection('MODIS/061/MOD14A1')\n",
        "  filtered_collection = modis_collection.filterBounds(aoi).filterDate(start_date, end_date)\n",
        "\n",
        "  def add_date(feature, date):\n",
        "    return feature.set('date', date)\n",
        "  def sample_image(image, band):\n",
        "      date = ee.Date(image.get('system:time_start')).format('YYYY-MM-dd')\n",
        "      return image.select(band).sample(region=aoi,  geometries = True).map(lambda feature: add_date(feature, date))\n",
        "\n",
        "  def make_dataset(band):\n",
        "\n",
        "    feature_collection = filtered_collection.map(lambda image: sample_image(image, band))\n",
        "    data_sampled = feature_collection.flatten()\n",
        "    features_lst = []\n",
        "    for i in range(N):\n",
        "      features_lst = features_lst + data_sampled.toList(5000, i*5000).getInfo()\n",
        "\n",
        "    records = [{'date': d['properties']['date'],'longitude':d['geometry']['coordinates'][0], 'latitude':d['geometry']['coordinates'][1], band:d['properties'][band]} for d in features_lst]\n",
        "    return pd.DataFrame.from_records(records)\n",
        "\n",
        "\n",
        "  df1 = make_dataset('QA')\n",
        "  df1['Province'] = province\n",
        "  df1['Town'] = town\n",
        "  df1['QA'] = df1['QA'].apply(lambda x: format(x,'03b'))\n",
        "  df1[['night/day', 'land/water']] = df1['QA'].str.extract(r'(.)(.*)')\n",
        "  df1['night/day'] = df1['night/day'].astype(int)\n",
        "  df1['land/water'] = df1['land/water'].apply(lambda x: int(x, 2))\n",
        "  df1.drop(columns=['QA'], inplace=True)\n",
        "  df2 = make_dataset('MaxFRP')\n",
        "\n",
        "  df = df1.merge(df2, how=\"outer\")\n",
        "  df.fillna(0, inplace=True)\n",
        "  df['fire'] = np.where(df['MaxFRP'] != 0, 1, 0)\n",
        "\n",
        "  df.to_csv('dataset.csv')\n",
        "\n",
        "  return df"
      ]
    },
    {
      "cell_type": "markdown",
      "metadata": {
        "id": "TiukqcdBtp-p"
      },
      "source": [
        "## Example:"
      ]
    },
    {
      "cell_type": "code",
      "execution_count": null,
      "metadata": {
        "id": "1JLF3FUiKV15"
      },
      "outputs": [],
      "source": [
        "coordinates = [[4.090573746751205, 36.583503499565424],\n",
        "    [4.239575821946517, 36.583503499565424],\n",
        "    [4.239575821946517, 36.66285977347944],\n",
        "    [4.090573746751205, 36.66285977347944],\n",
        "    [4.090573746751205, 36.583503499565424]]\n",
        "\n",
        "start_date = '2021-08-08'\n",
        "end_date = '2021-08-12'\n",
        "\n",
        "province = 'Tizi Ouzou'\n",
        "town = 'Larbaâ Nath Irathen'\n",
        "\n",
        "df = wildfire_dataset(province=province, town=town, coordinates=coordinates, start_date=start_date, end_date=end_date)"
      ]
    },
    {
      "cell_type": "markdown",
      "metadata": {},
      "source": [
        "The result will be a dataset with the following columns:\n",
        "\n",
        "   date : the date of the sample\n",
        "\n",
        "   longitude, latitude : the coordinates of the sample\n",
        "\n",
        "   province, town : the province and town that you input\n",
        "\n",
        "   night/day: 0 for night and 1 for day\n",
        "\n",
        "   land/water: 0 water, 1 coast, 2 land, 3 missing data\n",
        "\n",
        "   Maxfrp: Maximum fire radiative power\n",
        "   \n",
        "   fire : 0 non-fire, 1 fire"
      ]
    }
  ],
  "metadata": {
    "colab": {
      "provenance": []
    },
    "kernelspec": {
      "display_name": "Python 3",
      "name": "python3"
    },
    "language_info": {
      "name": "python"
    }
  },
  "nbformat": 4,
  "nbformat_minor": 0
}
